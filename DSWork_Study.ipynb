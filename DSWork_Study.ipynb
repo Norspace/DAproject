{
 "cells": [
  {
   "cell_type": "code",
   "execution_count": null,
   "id": "90342497",
   "metadata": {},
   "outputs": [],
   "source": [
    "#Data Set 1 https://www.kaggle.com/datasets/ruchi798/data-science-job-salaries?select=ds_salaries.csv\n",
    "#Data Set 2 https://www.kaggle.com/code/valchovalev/real-estate-world-3-d-top-500-cities-plus-dtree/input?select=real_estator_world_may2021.csv\n",
    "#Data Set 3 https://pkgstore.datahub.io/core/country-list/data_csv/data/d7c9d7cfb42cb69f4422dec222dbbaa8/data_csv.csv"
   ]
  },
  {
   "cell_type": "code",
   "execution_count": null,
   "id": "fb6bcee2",
   "metadata": {},
   "outputs": [],
   "source": []
  }
 ],
 "metadata": {
  "kernelspec": {
   "display_name": "Python 3",
   "language": "python",
   "name": "python3"
  },
  "language_info": {
   "codemirror_mode": {
    "name": "ipython",
    "version": 3
   },
   "file_extension": ".py",
   "mimetype": "text/x-python",
   "name": "python",
   "nbconvert_exporter": "python",
   "pygments_lexer": "ipython3",
   "version": "3.8.8"
  }
 },
 "nbformat": 4,
 "nbformat_minor": 5
}
